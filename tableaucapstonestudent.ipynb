{
 "cells": [
  {
   "cell_type": "markdown",
   "metadata": {},
   "source": [
    "# COVID 19 DATA VISUALIZATION WITH TABLEAU\n",
    "* In this Capstone Project, we are going to work with John Hopkins Universities' [COVID-19 dataset](https://www.tableau.com/covid-19-coronavirus-data-resources) that is also provided to you.\n",
    "![covid](https://i2.wp.com/opiniojuris.org/wp-content/uploads/blue-covid-banner.jpeg?fit=300%2C150)\n",
    "* During this capstone project, you have 4 objectives.\n",
    "1. Creating a Map Chart\n",
    "2. Creating a Line Chart\n",
    "3. Creating a Bar Chart\n",
    "4. Creating a BAN\n",
    "5. Creating your own Dashboard.\n",
    "\n",
    "* To start, pen the dataset with Tableau and go to the worksheet(Sheet 1. If the name is different, don't worry; just proceed.)"
   ]
  },
  {
   "cell_type": "markdown",
   "metadata": {},
   "source": [
    "## MAP CHART\n",
    "\n",
    "* Drag the `Country Region` table on the Marks.\n",
    "* Set the `Latitude(generated)` for Rows and `Longtitude(generated)` for columns.\n",
    "* Put the `Cases` on size.\n",
    "* Drag the `Case Type` on the Filters and select only `Confirmed`.\n",
    "* Drag the `Date` on the Pages and set it as Exact Date. Then, on the right of your screen, click on `fast speed` & `Show History(All)`. After that, click on Play.\n",
    "* In final result(04/06/2020), your map chart should look like this(color would be different):\n",
    "![4.png](images/4.png)"
   ]
  },
  {
   "cell_type": "markdown",
   "metadata": {},
   "source": [
    "## LINE CHART\n",
    "\n",
    "* Create a new worksheet.\n",
    "* Set  the `Date(Exact)` for columns and  `Cases` for rows. \n",
    "* Set the `Case Type(Confirmed)` as filter.\n",
    "* Add one more `Cases` on the rows section, and change latters type as Area(Right Click + Mark Type -> Area).\n",
    "* Concat those two graphs by `Dual Axis`(Right click on the latter and Select `Dual Axis`)\n",
    "* Remove the header on the left.\n",
    "* At this point, your graph should be like this:\n",
    "![1.png](images/1.png)"
   ]
  },
  {
   "cell_type": "markdown",
   "metadata": {},
   "source": [
    "## BAR CHART"
   ]
  },
  {
   "cell_type": "markdown",
   "metadata": {},
   "source": [
    "* Remove all of the data.\n",
    "* Put the `case types(confirmed)` on the Filters.\n",
    "* Bring the `SUM(Cases)` on the Columns.\n",
    "* Bring the `Country Region` on the Rows.\n",
    "* Sort descendently the cases by clicking the Cases below(Make it manual if necessary).\n",
    "* Put `Cases` on the Label.\n",
    "* Click on right to the Country Region in the rows and select `Filter`. On `Top`, select `By Formula` and type the following: `SUM(IF [Date] = #4/6/2020# and [Case Type] = 'Confirmed' THEN Cases END)`. After that, click OK.\n",
    "* Drag the `Date(Exact)` on Pages. Then, on the right of your screen, click on `fast speed` & `Show History(All)`. After that, click on Play.\n",
    "* Let it be finished.\n",
    "* In the end, it should be seen like this:\n",
    "![2](images/2.png)"
   ]
  },
  {
   "cell_type": "markdown",
   "metadata": {},
   "source": [
    "## BAN\n",
    "* Set the filter as `Case Type(Confirmed)`.\n",
    "* Set the Pages as `Date`. Make sure that it is exact date.\n",
    "* Drag the `Cases` to Marks/Text.\n",
    "* In the end, it should be seen like this:\n",
    "![3.png](images/3.png)\n"
   ]
  },
  {
   "cell_type": "markdown",
   "metadata": {},
   "source": [
    "* Lastly, create a dashboard with your own preferences.\n"
   ]
  }
 ],
 "metadata": {
  "kernelspec": {
   "display_name": "Python 3 (ipykernel)",
   "language": "python",
   "name": "python3"
  },
  "language_info": {
   "codemirror_mode": {
    "name": "ipython",
    "version": 3
   },
   "file_extension": ".py",
   "mimetype": "text/x-python",
   "name": "python",
   "nbconvert_exporter": "python",
   "pygments_lexer": "ipython3",
   "version": "3.9.7"
  }
 },
 "nbformat": 4,
 "nbformat_minor": 2
}
